{
 "cells": [
  {
   "cell_type": "markdown",
   "id": "ad63023b",
   "metadata": {},
   "source": [
    "# Presets"
   ]
  },
  {
   "cell_type": "code",
   "execution_count": 1,
   "id": "9f60dfd7",
   "metadata": {
    "ExecuteTime": {
     "end_time": "2023-09-24T16:04:20.028754Z",
     "start_time": "2023-09-24T16:04:06.518215Z"
    }
   },
   "outputs": [],
   "source": [
    "import pandas as pd\n",
    "import numpy as np\n",
    "from sklearn.ensemble import (\n",
    "    RandomForestRegressor, AdaBoostRegressor, ExtraTreesRegressor, GradientBoostingRegressor\n",
    ")\n",
    "from catboost import CatBoostRegressor\n",
    "from lightgbm import LGBMRegressor\n",
    "from xgboost import XGBRegressor\n",
    "from sklearn.neural_network import MLPRegressor\n",
    "from sklearn_genetic.space import Continuous, Categorical, Integer\n",
    "from sklearn_genetic import GASearchCV\n",
    "from sklearn.model_selection import cross_val_predict\n",
    "#import pymc as pm\n",
    "#import pymc_bart as pmb"
   ]
  },
  {
   "cell_type": "code",
   "execution_count": 2,
   "id": "d5e56ceb",
   "metadata": {
    "ExecuteTime": {
     "end_time": "2023-09-24T16:04:20.216806Z",
     "start_time": "2023-09-24T16:04:20.045756Z"
    }
   },
   "outputs": [],
   "source": [
    "df = pd.read_csv('C:/Projects/WarsawFlatPrices/data/clean/dataset_final.csv')"
   ]
  },
  {
   "cell_type": "markdown",
   "id": "da4cb029",
   "metadata": {},
   "source": [
    "# Convert characters to 0-1"
   ]
  },
  {
   "cell_type": "code",
   "execution_count": 3,
   "id": "60cd5c15",
   "metadata": {
    "ExecuteTime": {
     "end_time": "2023-09-24T16:04:20.296827Z",
     "start_time": "2023-09-24T16:04:20.250802Z"
    }
   },
   "outputs": [],
   "source": [
    "df.drop(columns=['id'], inplace=True)\n",
    "dtypes_str = ['object', 'category']\n",
    "vars_subset = df.columns.tolist()\n",
    "vars_str = df.loc[:, vars_subset].select_dtypes(include=dtypes_str).columns\n",
    "vars_to_drop = []\n",
    "for i in vars_str:\n",
    "    vars_to_drop.append(i+'_'+df[i].value_counts().index[0])\n",
    "df = pd.get_dummies(df, columns=vars_str, prefix=vars_str)\n",
    "df = df.drop(columns=vars_to_drop)"
   ]
  },
  {
   "cell_type": "code",
   "execution_count": 4,
   "id": "94901d09",
   "metadata": {
    "ExecuteTime": {
     "end_time": "2023-09-24T16:05:24.910094Z",
     "start_time": "2023-09-24T16:05:24.210884Z"
    }
   },
   "outputs": [],
   "source": [
    "df.to_csv('C:/Projects/wappapp/data/df_lgbm_to_train.csv')"
   ]
  },
  {
   "cell_type": "markdown",
   "id": "8a09241c",
   "metadata": {
    "heading_collapsed": true
   },
   "source": [
    "# Grids"
   ]
  },
  {
   "cell_type": "code",
   "execution_count": 5,
   "id": "ce1cb78d",
   "metadata": {
    "ExecuteTime": {
     "end_time": "2023-09-09T14:03:21.327726Z",
     "start_time": "2023-09-09T14:03:21.313724Z"
    },
    "hidden": true
   },
   "outputs": [],
   "source": [
    "model_grid_ga_rf = {\n",
    "    'n_estimators': Integer(100, 1000),\n",
    "    'max_depth': Integer(10, 80),\n",
    "    'min_samples_split': Integer(2, 20),\n",
    "    'min_samples_leaf': Integer(2, 10),\n",
    "    'max_features': Continuous(0.02, 0.4, distribution='uniform')\n",
    "}"
   ]
  },
  {
   "cell_type": "code",
   "execution_count": 6,
   "id": "cc1e86cc",
   "metadata": {
    "ExecuteTime": {
     "end_time": "2023-09-09T14:03:21.342730Z",
     "start_time": "2023-09-09T14:03:21.329727Z"
    },
    "hidden": true
   },
   "outputs": [],
   "source": [
    "model_grid_ga_et = {\n",
    "    'n_estimators': Integer(100, 1000),\n",
    "    'max_depth': Integer(10, 80),\n",
    "    'min_samples_split': Integer(2, 20),\n",
    "    'min_samples_leaf': Integer(2, 10),\n",
    "    'max_features': Continuous(0.02, 0.4, distribution='uniform')\n",
    "}"
   ]
  },
  {
   "cell_type": "code",
   "execution_count": 7,
   "id": "8e36aa05",
   "metadata": {
    "ExecuteTime": {
     "end_time": "2023-09-09T14:03:21.358736Z",
     "start_time": "2023-09-09T14:03:21.343730Z"
    },
    "hidden": true
   },
   "outputs": [],
   "source": [
    "model_grid_ga_ad = {\n",
    "    'n_estimators': Integer(500, 1000),\n",
    "    'learning_rate': Continuous(0.01, 0.60, distribution='uniform')\n",
    "}"
   ]
  },
  {
   "cell_type": "code",
   "execution_count": 8,
   "id": "e7df9fef",
   "metadata": {
    "ExecuteTime": {
     "end_time": "2023-09-09T14:03:21.374738Z",
     "start_time": "2023-09-09T14:03:21.360735Z"
    },
    "hidden": true
   },
   "outputs": [],
   "source": [
    "model_grid_ga_gb = {\n",
    "    'learning_rate': Continuous(0.01, 0.60, distribution='uniform'),\n",
    "    'n_estimators': Integer(50, 1000)\n",
    "}"
   ]
  },
  {
   "cell_type": "code",
   "execution_count": 9,
   "id": "c6cf35fc",
   "metadata": {
    "ExecuteTime": {
     "end_time": "2023-09-09T14:03:21.390740Z",
     "start_time": "2023-09-09T14:03:21.377737Z"
    },
    "hidden": true
   },
   "outputs": [],
   "source": [
    "model_grid_ga_xgb = {\n",
    "    'n_estimators': Integer(50, 1000),\n",
    "    'learning_rate': Continuous(0.01, 0.60, distribution='uniform')\n",
    "}"
   ]
  },
  {
   "cell_type": "code",
   "execution_count": 10,
   "id": "e17c65f7",
   "metadata": {
    "ExecuteTime": {
     "end_time": "2023-09-09T14:03:21.406744Z",
     "start_time": "2023-09-09T14:03:21.391743Z"
    },
    "hidden": true
   },
   "outputs": [],
   "source": [
    "model_grid_ga_lgbm = {\n",
    "    'n_estimators': Integer(50, 1000),\n",
    "    'learning_rate': Continuous(0.01, 0.60, distribution='uniform')\n",
    "}"
   ]
  },
  {
   "cell_type": "code",
   "execution_count": 11,
   "id": "b417aa02",
   "metadata": {
    "ExecuteTime": {
     "end_time": "2023-09-09T14:03:21.422751Z",
     "start_time": "2023-09-09T14:03:21.408747Z"
    },
    "hidden": true
   },
   "outputs": [],
   "source": [
    "model_grid_ga_cat = {\n",
    "    'iterations': Integer(50, 1000),\n",
    "    'learning_rate': Continuous(0.01, 0.60, distribution='uniform')\n",
    "}"
   ]
  },
  {
   "cell_type": "code",
   "execution_count": 12,
   "id": "366e993e",
   "metadata": {
    "ExecuteTime": {
     "end_time": "2023-09-09T14:03:21.438751Z",
     "start_time": "2023-09-09T14:03:21.424750Z"
    },
    "hidden": true
   },
   "outputs": [],
   "source": [
    "model_grid_ga_mlp = {\n",
    "    'hidden_layer_sizes': Integer(100, 1000),\n",
    "    'max_iter': Integer(200, 1000)\n",
    "}"
   ]
  },
  {
   "cell_type": "markdown",
   "id": "88e350cd",
   "metadata": {
    "heading_collapsed": true
   },
   "source": [
    "# Model selection"
   ]
  },
  {
   "cell_type": "code",
   "execution_count": 14,
   "id": "bbbbedad",
   "metadata": {
    "ExecuteTime": {
     "end_time": "2023-09-09T14:03:28.852285Z",
     "start_time": "2023-09-09T14:03:27.315996Z"
    },
    "hidden": true
   },
   "outputs": [],
   "source": [
    "df.to_csv('C:/Projects/wappapp/data/flats.csv')"
   ]
  },
  {
   "cell_type": "code",
   "execution_count": null,
   "id": "b44ad905",
   "metadata": {
    "ExecuteTime": {
     "end_time": "2023-09-09T14:03:23.148108Z",
     "start_time": "2023-09-09T14:03:23.148108Z"
    },
    "hidden": true
   },
   "outputs": [],
   "source": [
    "X = df.copy()\n",
    "y = X['price_per_m']\n",
    "X.drop(columns=['price_per_m'], inplace=True)"
   ]
  },
  {
   "cell_type": "code",
   "execution_count": null,
   "id": "44b33445",
   "metadata": {
    "ExecuteTime": {
     "end_time": "2023-09-09T14:03:23.149108Z",
     "start_time": "2023-09-09T14:03:23.149108Z"
    },
    "hidden": true
   },
   "outputs": [],
   "source": [
    "model = CatBoostRegressor(train_dir='C:/Projects/WarsawFlatPrices/catboost/')\n",
    "#MLPRegressor(learning_rate='adaptive')\n",
    "#LGBMRegressor()\n",
    "#GradientBoostingRegressor()\n",
    "#AdaBoostRegressor()\n",
    "#ExtraTreesRegressor(bootstrap=True)\n",
    "#RandomForestRegressor()\n",
    "model_grid = model_grid_ga_cat"
   ]
  },
  {
   "cell_type": "code",
   "execution_count": null,
   "id": "0e8f4c7b",
   "metadata": {
    "ExecuteTime": {
     "end_time": "2023-09-09T14:03:23.151109Z",
     "start_time": "2023-09-09T14:03:23.151109Z"
    },
    "hidden": true
   },
   "outputs": [],
   "source": [
    "a"
   ]
  },
  {
   "cell_type": "code",
   "execution_count": null,
   "id": "0bc10793",
   "metadata": {
    "ExecuteTime": {
     "end_time": "2023-09-09T14:03:23.153110Z",
     "start_time": "2023-09-09T14:03:23.153110Z"
    },
    "code_folding": [],
    "hidden": true
   },
   "outputs": [],
   "source": [
    " model_grid_search_cv = GASearchCV(\n",
    "    estimator=model,\n",
    "    cv=10,\n",
    "    scoring='neg_root_mean_squared_error',\n",
    "    population_size=20,\n",
    "    generations=1,\n",
    "    tournament_size=10,\n",
    "    elitism=True,\n",
    "    crossover_probability=0.8,\n",
    "    mutation_probability=0.1,\n",
    "    param_grid=model_grid,\n",
    "    #criteria='max',\n",
    "    algorithm='eaMuPlusLambda',\n",
    "    n_jobs=-1,\n",
    "    verbose=True,\n",
    "    keep_top_k=3\n",
    "    ).fit(X, y)"
   ]
  },
  {
   "cell_type": "code",
   "execution_count": null,
   "id": "71cb2beb",
   "metadata": {
    "ExecuteTime": {
     "end_time": "2023-09-09T14:03:23.155108Z",
     "start_time": "2023-09-09T14:03:23.155108Z"
    },
    "hidden": true
   },
   "outputs": [],
   "source": [
    "print(\"Accuracy:\", model_grid_search_cv.best_score_, \"\\n\")\n",
    "print(\"Best params\", model_grid_search_cv.best_params_, \"\\n\")"
   ]
  },
  {
   "cell_type": "markdown",
   "id": "89d61700",
   "metadata": {
    "heading_collapsed": true
   },
   "source": [
    "# Best grids"
   ]
  },
  {
   "cell_type": "code",
   "execution_count": null,
   "id": "88553ba8",
   "metadata": {
    "ExecuteTime": {
     "end_time": "2023-09-09T14:03:23.157109Z",
     "start_time": "2023-09-09T14:03:23.157109Z"
    },
    "hidden": true
   },
   "outputs": [],
   "source": [
    "best_rf = RandomForestRegressor(\n",
    "    n_estimators=720,\n",
    "    max_depth=40,\n",
    "    min_samples_split=4,\n",
    "    min_samples_leaf=2,\n",
    "    max_features=0.3492\n",
    ")\n",
    "\n",
    "best_ef = ExtraTreesRegressor(\n",
    "    n_estimators=299,\n",
    "    max_depth=50,\n",
    "    min_samples_split=8,\n",
    "    min_samples_leaf=2,\n",
    "    max_features=0.3549,\n",
    "    bootstrap=True\n",
    ")\n",
    "best_ad = AdaBoostRegressor(\n",
    "    n_estimators=650,\n",
    "    learning_rate=0.07430\n",
    ")\n",
    "\n",
    "best_gd = GradientBoostingRegressor(\n",
    "    learning_rate=0.10016,\n",
    "    n_estimators=948\n",
    ")\n",
    "\n",
    "best_xgb = XGBRegressor(\n",
    "    n_estimators=592,\n",
    "    learning_rate=0.12283\n",
    ")\n",
    "\n",
    "best_lgbm = LGBMRegressor(\n",
    "    n_estimators=286,\n",
    "    learning_rate=0.07589\n",
    ")\n",
    "best_cat = CatBoostRegressor(\n",
    "    iterations=978,\n",
    "    learning_rate=0.12395,\n",
    "    train_dir='C:/Projects/WarsawFlatPrices/catboost/'\n",
    ")\n",
    "best_mlp = MLPRegressor(\n",
    "    hidden_layer_sizes=938,\n",
    "    max_iter=703,\n",
    "    learning_rate='adaptive'\n",
    ")"
   ]
  },
  {
   "cell_type": "markdown",
   "id": "0dab9a01",
   "metadata": {},
   "source": [
    "# Testing model"
   ]
  },
  {
   "cell_type": "code",
   "execution_count": null,
   "id": "7b34cf7b",
   "metadata": {
    "ExecuteTime": {
     "end_time": "2023-09-09T14:03:23.159110Z",
     "start_time": "2023-09-09T14:03:23.159110Z"
    }
   },
   "outputs": [],
   "source": [
    "m_lgbm = best_lgbm.fit(X, y)"
   ]
  },
  {
   "cell_type": "code",
   "execution_count": null,
   "id": "1d7a469a",
   "metadata": {
    "ExecuteTime": {
     "end_time": "2023-09-09T14:03:23.160110Z",
     "start_time": "2023-09-09T14:03:23.160110Z"
    }
   },
   "outputs": [],
   "source": [
    "XX = pd.read_csv('data/clean/dataset_testing.csv')\n",
    "XX['rooms_num_1'] = 0\n",
    "XX['rooms_num_3'] = 1\n",
    "XX['rooms_num_4'] = 0\n",
    "XX['rooms_num_4+'] = 0\n",
    "XX['region_Bemowo'] = 0\n",
    "XX['region_Białołęka'] = 0\n",
    "XX['region_Bielany'] = 0\n",
    "XX['region_Mokotów'] = 0\n",
    "XX['region_Ochota'] = 0\n",
    "XX['region_Praga-Południe'] = 0\n",
    "XX['region_Praga-Północ'] = 0\n",
    "XX['region_Rembertów'] = 0\n",
    "XX['region_Targówek'] = 0\n",
    "XX['region_Ursus'] = 0\n",
    "XX['region_Ursynów'] = 0\n",
    "XX['region_Wawer'] = 0\n",
    "XX['region_Wesoła'] = 0\n",
    "XX['region_Wilanów'] = 0\n",
    "XX['region_Włochy'] = 0\n",
    "XX['region_Śródmieście'] = 0\n",
    "XX['region_Żoliborz'] = 0\n",
    "XX['building_type_apartment'] = 1\n",
    "XX['building_type_block'] = 0\n",
    "XX['windows_type_aluminium'] = 0\n",
    "XX['windows_type_plastic'] = 1\n",
    "XX['windows_type_wooden'] = 0\n",
    "XX['floor_no_0'] = 0\n",
    "XX['floor_no_2'] = 0\n",
    "XX['floor_no_3'] = 0#1\n",
    "XX['floor_no_4'] = 0\n",
    "XX['floor_no_5'] = 1#0\n",
    "XX['floor_no_6'] = 0\n",
    "XX['floor_no_7'] = 0\n",
    "XX['floor_no_8'] = 0\n",
    "XX['floor_no_9'] = 0\n",
    "XX['floor_no_9+'] = 0\n",
    "XX['floor_no_unknown'] = 0\n",
    "XX['building_floors_num_1'] = 0\n",
    "XX['building_floors_num_2'] = 0\n",
    "XX['building_floors_num_3'] = 0\n",
    "XX['building_floors_num_5'] = 0\n",
    "XX['building_floors_num_6'] = 0\n",
    "XX['building_floors_num_7'] = 0\n",
    "XX['building_floors_num_8'] = 1\n",
    "XX['building_floors_num_9'] = 0\n",
    "XX['building_floors_num_9+'] = 0\n",
    "XX['building_floors_num_unknown'] = 0\n",
    "XX.drop(columns=['price_per_m', 'id'], inplace=True)\n",
    "XX = XX[X.columns]"
   ]
  },
  {
   "cell_type": "code",
   "execution_count": null,
   "id": "08da1ff7",
   "metadata": {
    "ExecuteTime": {
     "end_time": "2023-09-09T14:03:23.162112Z",
     "start_time": "2023-09-09T14:03:23.162112Z"
    }
   },
   "outputs": [],
   "source": [
    "#XX['is_market_primary']"
   ]
  },
  {
   "cell_type": "code",
   "execution_count": null,
   "id": "daabf28d",
   "metadata": {
    "ExecuteTime": {
     "end_time": "2023-09-09T14:03:23.164112Z",
     "start_time": "2023-09-09T14:03:23.164112Z"
    }
   },
   "outputs": [],
   "source": [
    "#https://www.money.pl/gospodarka/ceny-mieszkan-wystrzelily-najnowsze-dane-6936938860427904a.html#:~:text=Cena%20za%20metr%20kwadratowy%20w%20tym%20mie%C5%9Bcie%20skoczy%C5%82a%20do%2014%20805%20z%C5%82.&text=Najwy%C5%BCsze%20stawki%20nadal%20charakteryzuj%C4%85%20Warszaw%C4%99,sierpniu%20ju%C5%BC%2015%20394%20z%C5%82."
   ]
  },
  {
   "cell_type": "code",
   "execution_count": null,
   "id": "bc21048e",
   "metadata": {
    "ExecuteTime": {
     "end_time": "2023-09-09T14:03:23.166112Z",
     "start_time": "2023-09-09T14:03:23.166112Z"
    }
   },
   "outputs": [],
   "source": [
    "#https://www.otodom.pl/pl/oferta/mieszkanie-m3-ul-jana-kazimierza-wola-bezposrednio-ID4mNn4.html?_ga=2.107833158.598607718.1694011103-283185793.1694011103&_gac=1.115792244.1694011104.Cj0KCQjwxuCnBhDLARIsAB-cq1oUWMcMSGJigbd2BeDhmpMB2aOCeXP6b0PXPHbrM47l4yGEusEoXboaAge-EALw_wcB&_gl=1*1mnei2q*_ga*MjgzMTg1NzkzLjE2OTQwMTExMDM.*_ga_6PZTQNYS5C*MTY5NDAxMTEwNC4xLjAuMTY5NDAxMTEwNC4wLjAuMA.."
   ]
  },
  {
   "cell_type": "code",
   "execution_count": null,
   "id": "6e82960d",
   "metadata": {
    "ExecuteTime": {
     "end_time": "2023-09-09T14:03:23.167112Z",
     "start_time": "2023-09-09T14:03:23.167112Z"
    }
   },
   "outputs": [],
   "source": [
    "np.round(np.exp(m_lgbm.predict(XX))*66, 0)[0]"
   ]
  },
  {
   "cell_type": "code",
   "execution_count": null,
   "id": "9e8e753a",
   "metadata": {
    "ExecuteTime": {
     "end_time": "2023-09-09T14:03:23.169113Z",
     "start_time": "2023-09-09T14:03:23.169113Z"
    }
   },
   "outputs": [],
   "source": [
    "pred_t = np.round(np.exp(m_lgbm.predict(XX))*66, 0)[0]*1.052\n",
    "print('expected price:', pred_t)\n",
    "print('real price:', 1180000)\n",
    "print('difference:', pred_t-1180000)\n",
    "# 15-16k wiecej"
   ]
  },
  {
   "cell_type": "code",
   "execution_count": null,
   "id": "67708d92",
   "metadata": {
    "ExecuteTime": {
     "end_time": "2023-09-09T14:03:23.170112Z",
     "start_time": "2023-09-09T14:03:23.170112Z"
    }
   },
   "outputs": [],
   "source": [
    "#1154524"
   ]
  },
  {
   "cell_type": "markdown",
   "id": "91a92fd0",
   "metadata": {
    "heading_collapsed": true
   },
   "source": [
    "# Variable importance"
   ]
  },
  {
   "cell_type": "code",
   "execution_count": null,
   "id": "9541fc5e",
   "metadata": {
    "ExecuteTime": {
     "end_time": "2023-09-09T14:03:23.172114Z",
     "start_time": "2023-09-09T14:03:23.172114Z"
    },
    "hidden": true
   },
   "outputs": [],
   "source": [
    "m_rf = best_rf.fit(X, y)\n",
    "m_ef = best_ef.fit(X, y)\n",
    "m_ad = best_ad.fit(X, y)\n",
    "m_gd = best_gd.fit(X, y)\n",
    "m_xgb = best_xgb.fit(X, y)\n",
    "m_lgbm = best_lgbm.fit(X, y)\n",
    "m_cat = best_cat.fit(X, y)"
   ]
  },
  {
   "cell_type": "code",
   "execution_count": null,
   "id": "bbbd7086",
   "metadata": {
    "ExecuteTime": {
     "end_time": "2023-09-09T14:03:23.174114Z",
     "start_time": "2023-09-09T14:03:23.174114Z"
    },
    "hidden": true
   },
   "outputs": [],
   "source": [
    "feature_names = X.columns\n",
    "importances = m_lgbm.feature_importances_\n",
    "importances_df = pd.DataFrame({'feature_names': feature_names, 'importances':importances})\n",
    "importances_df['importances'] = importances_df['importances']/(286*4)\n",
    "importances_df.loc[importances_df['importances']>0.1].sort_values(#0.01\n",
    "    by=['importances'], ascending=False\n",
    ")"
   ]
  },
  {
   "cell_type": "markdown",
   "id": "2c655851",
   "metadata": {},
   "source": [
    "# Predicting using CV"
   ]
  },
  {
   "cell_type": "code",
   "execution_count": null,
   "id": "cb731d11",
   "metadata": {
    "ExecuteTime": {
     "end_time": "2023-09-09T14:03:23.176114Z",
     "start_time": "2023-09-09T14:03:23.176114Z"
    }
   },
   "outputs": [],
   "source": [
    "y_pred_rf = cross_val_predict(best_rf, X, y, cv=10)"
   ]
  },
  {
   "cell_type": "code",
   "execution_count": null,
   "id": "03236b84",
   "metadata": {
    "ExecuteTime": {
     "end_time": "2023-09-09T14:03:23.178116Z",
     "start_time": "2023-09-09T14:03:23.178116Z"
    }
   },
   "outputs": [],
   "source": [
    "y_pred_ef = cross_val_predict(best_ef, X, y, cv=10)"
   ]
  },
  {
   "cell_type": "code",
   "execution_count": null,
   "id": "5f548df3",
   "metadata": {
    "ExecuteTime": {
     "end_time": "2023-09-09T14:03:23.180114Z",
     "start_time": "2023-09-09T14:03:23.180114Z"
    }
   },
   "outputs": [],
   "source": [
    "y_pred_ad = cross_val_predict(best_ad, X, y, cv=10)"
   ]
  },
  {
   "cell_type": "code",
   "execution_count": null,
   "id": "4f5f1145",
   "metadata": {
    "ExecuteTime": {
     "end_time": "2023-09-09T14:03:23.181115Z",
     "start_time": "2023-09-09T14:03:23.181115Z"
    }
   },
   "outputs": [],
   "source": [
    "y_pred_gd = cross_val_predict(best_gd, X, y, cv=10)"
   ]
  },
  {
   "cell_type": "code",
   "execution_count": null,
   "id": "586d9560",
   "metadata": {
    "ExecuteTime": {
     "end_time": "2023-09-09T14:03:23.183116Z",
     "start_time": "2023-09-09T14:03:23.183116Z"
    }
   },
   "outputs": [],
   "source": [
    "y_pred_xgb = cross_val_predict(best_xgb, X, y, cv=10)"
   ]
  },
  {
   "cell_type": "code",
   "execution_count": null,
   "id": "aabdd9c9",
   "metadata": {
    "ExecuteTime": {
     "end_time": "2023-09-09T14:03:23.185116Z",
     "start_time": "2023-09-09T14:03:23.185116Z"
    }
   },
   "outputs": [],
   "source": [
    "y_pred_lgbm = cross_val_predict(best_lgbm, X, y, cv=10)"
   ]
  },
  {
   "cell_type": "code",
   "execution_count": null,
   "id": "8e2b1cd2",
   "metadata": {
    "ExecuteTime": {
     "end_time": "2023-09-09T14:03:23.187117Z",
     "start_time": "2023-09-09T14:03:23.187117Z"
    }
   },
   "outputs": [],
   "source": [
    "y_pred_cat = cross_val_predict(best_cat, X, y, cv=10)"
   ]
  },
  {
   "cell_type": "code",
   "execution_count": null,
   "id": "10cb6e47",
   "metadata": {
    "ExecuteTime": {
     "end_time": "2023-09-09T14:03:23.189116Z",
     "start_time": "2023-09-09T14:03:23.189116Z"
    }
   },
   "outputs": [],
   "source": [
    "y_pred_mlp = cross_val_predict(best_mlp, X, y, cv=10)"
   ]
  },
  {
   "cell_type": "code",
   "execution_count": null,
   "id": "8db9cd55",
   "metadata": {
    "ExecuteTime": {
     "end_time": "2023-09-09T14:03:23.190118Z",
     "start_time": "2023-09-09T14:03:23.190118Z"
    }
   },
   "outputs": [],
   "source": [
    "df_res = {\n",
    "    'pred_rf': y_pred_rf,\n",
    "    'pred_ef': y_pred_ef,\n",
    "    'pred_ad': y_pred_ad,\n",
    "    'pred_gd': y_pred_gd,\n",
    "    'pred_xgb': y_pred_xgb,\n",
    "    'pred_lgbm': y_pred_lgbm,\n",
    "    'pred_cat': y_pred_cat,\n",
    "    'pred_mlp': y_pred_mlp,\n",
    "}"
   ]
  },
  {
   "cell_type": "code",
   "execution_count": null,
   "id": "1bf49f2a",
   "metadata": {
    "ExecuteTime": {
     "end_time": "2023-09-09T14:03:23.193118Z",
     "start_time": "2023-09-09T14:03:23.193118Z"
    }
   },
   "outputs": [],
   "source": [
    "df_res = pd.DataFrame(df_res)"
   ]
  },
  {
   "cell_type": "code",
   "execution_count": null,
   "id": "caf0eb3f",
   "metadata": {
    "ExecuteTime": {
     "end_time": "2023-09-09T14:03:23.194118Z",
     "start_time": "2023-09-09T14:03:23.194118Z"
    }
   },
   "outputs": [],
   "source": [
    "df_res.to_csv('C:/Projects/WarsawFlatPrices/data/clean/ml_pred.csv')"
   ]
  }
 ],
 "metadata": {
  "kernelspec": {
   "display_name": "Python 3 (ipykernel)",
   "language": "python",
   "name": "python3"
  },
  "language_info": {
   "codemirror_mode": {
    "name": "ipython",
    "version": 3
   },
   "file_extension": ".py",
   "mimetype": "text/x-python",
   "name": "python",
   "nbconvert_exporter": "python",
   "pygments_lexer": "ipython3",
   "version": "3.10.0"
  },
  "toc": {
   "base_numbering": 1,
   "nav_menu": {},
   "number_sections": true,
   "sideBar": true,
   "skip_h1_title": false,
   "title_cell": "Table of Contents",
   "title_sidebar": "Contents",
   "toc_cell": false,
   "toc_position": {},
   "toc_section_display": true,
   "toc_window_display": false
  },
  "varInspector": {
   "cols": {
    "lenName": 16,
    "lenType": 16,
    "lenVar": 40
   },
   "kernels_config": {
    "python": {
     "delete_cmd_postfix": "",
     "delete_cmd_prefix": "del ",
     "library": "var_list.py",
     "varRefreshCmd": "print(var_dic_list())"
    },
    "r": {
     "delete_cmd_postfix": ") ",
     "delete_cmd_prefix": "rm(",
     "library": "var_list.r",
     "varRefreshCmd": "cat(var_dic_list()) "
    }
   },
   "types_to_exclude": [
    "module",
    "function",
    "builtin_function_or_method",
    "instance",
    "_Feature"
   ],
   "window_display": false
  }
 },
 "nbformat": 4,
 "nbformat_minor": 5
}
