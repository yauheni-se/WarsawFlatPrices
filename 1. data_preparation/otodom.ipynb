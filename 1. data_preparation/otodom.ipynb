{
 "cells": [
  {
   "cell_type": "code",
   "execution_count": 1,
   "id": "78245aa8",
   "metadata": {
    "ExecuteTime": {
     "end_time": "2023-06-30T07:03:08.913993Z",
     "start_time": "2023-06-30T07:03:08.491194Z"
    }
   },
   "outputs": [],
   "source": [
    "import json\n",
    "import numpy as np\n",
    "import pandas as pd"
   ]
  },
  {
   "cell_type": "code",
   "execution_count": 2,
   "id": "b7cc9eeb",
   "metadata": {
    "ExecuteTime": {
     "end_time": "2023-06-30T07:03:11.101889Z",
     "start_time": "2023-06-30T07:03:08.914998Z"
    }
   },
   "outputs": [],
   "source": [
    "df_list = list()\n",
    "for i in range(1, 6):\n",
    "    list_path = 'scrapped/data'+str(i)+'.json'\n",
    "    json_list = open(list_path)\n",
    "    json_list = json.load(json_list)\n",
    "    df = pd.DataFrame(json_list)\n",
    "    df['p_windows'] = df['p_windows'].apply(lambda x: ' '.join(x) if isinstance(x, list) else x)\n",
    "    df = df.loc[df['pprice'].notnull()]\n",
    "    df_list.append(df)"
   ]
  },
  {
   "cell_type": "code",
   "execution_count": 3,
   "id": "25c8f489",
   "metadata": {
    "ExecuteTime": {
     "end_time": "2023-06-30T07:03:11.228012Z",
     "start_time": "2023-06-30T07:03:11.104911Z"
    }
   },
   "outputs": [],
   "source": [
    "df = pd.concat(df_list).drop_duplicates('id')"
   ]
  },
  {
   "cell_type": "code",
   "execution_count": 4,
   "id": "e9273c31",
   "metadata": {
    "ExecuteTime": {
     "end_time": "2023-06-30T07:03:11.243184Z",
     "start_time": "2023-06-30T07:03:11.229012Z"
    }
   },
   "outputs": [
    {
     "name": "stdout",
     "output_type": "stream",
     "text": [
      "(14212, 54)\n",
      "Index(['id', 'title', 'estate', 'isExclusiveOffer', 'isPrivateOwner',\n",
      "       'isPromoted', 'areaInSquareMeters', 'terrainAreaInSquareMeters',\n",
      "       'roomsNumber', 'hidePrice', 'dateCreated', 'dateCreatedFirst', 'loc',\n",
      "       'loc_label', 'desc', 'price', 'url', 'agency_name', 'description',\n",
      "       'features', 'm', 'price_per_m', 'rooms_num', 'market', 'building_type',\n",
      "       'floor_no', 'building_floors_num', 'windows_type', 'heating',\n",
      "       'build_year', 'construction_status', 'rent', 'building_ownership',\n",
      "       'lat', 'lon', 'district', 'features2', 'p_kitchen', 'p_parking',\n",
      "       'p_rooms', 'p_type', 'p_windows', 'p_btype', 'p_bmaterial',\n",
      "       'p_bwindows', 'p_bheating', 'owner_type', 'owner_name', 'object_name',\n",
      "       'pprice', 'remote_services', 'building_material', 'free_from',\n",
      "       'property'],\n",
      "      dtype='object')\n"
     ]
    }
   ],
   "source": [
    "print(df.shape)\n",
    "print(df.columns)"
   ]
  },
  {
   "cell_type": "code",
   "execution_count": 5,
   "id": "1850fbe6",
   "metadata": {
    "ExecuteTime": {
     "end_time": "2023-06-30T07:03:11.273953Z",
     "start_time": "2023-06-30T07:03:11.244184Z"
    }
   },
   "outputs": [
    {
     "data": {
      "text/html": [
       "<div>\n",
       "<style scoped>\n",
       "    .dataframe tbody tr th:only-of-type {\n",
       "        vertical-align: middle;\n",
       "    }\n",
       "\n",
       "    .dataframe tbody tr th {\n",
       "        vertical-align: top;\n",
       "    }\n",
       "\n",
       "    .dataframe thead th {\n",
       "        text-align: right;\n",
       "    }\n",
       "</style>\n",
       "<table border=\"1\" class=\"dataframe\">\n",
       "  <thead>\n",
       "    <tr style=\"text-align: right;\">\n",
       "      <th></th>\n",
       "      <th>id</th>\n",
       "      <th>title</th>\n",
       "      <th>estate</th>\n",
       "      <th>isExclusiveOffer</th>\n",
       "      <th>isPrivateOwner</th>\n",
       "      <th>isPromoted</th>\n",
       "      <th>areaInSquareMeters</th>\n",
       "      <th>terrainAreaInSquareMeters</th>\n",
       "      <th>roomsNumber</th>\n",
       "      <th>hidePrice</th>\n",
       "      <th>...</th>\n",
       "      <th>p_bwindows</th>\n",
       "      <th>p_bheating</th>\n",
       "      <th>owner_type</th>\n",
       "      <th>owner_name</th>\n",
       "      <th>object_name</th>\n",
       "      <th>pprice</th>\n",
       "      <th>remote_services</th>\n",
       "      <th>building_material</th>\n",
       "      <th>free_from</th>\n",
       "      <th>property</th>\n",
       "    </tr>\n",
       "  </thead>\n",
       "  <tbody>\n",
       "    <tr>\n",
       "      <th>0</th>\n",
       "      <td>int64</td>\n",
       "      <td>object</td>\n",
       "      <td>object</td>\n",
       "      <td>bool</td>\n",
       "      <td>bool</td>\n",
       "      <td>bool</td>\n",
       "      <td>float64</td>\n",
       "      <td>object</td>\n",
       "      <td>object</td>\n",
       "      <td>bool</td>\n",
       "      <td>...</td>\n",
       "      <td>object</td>\n",
       "      <td>object</td>\n",
       "      <td>object</td>\n",
       "      <td>object</td>\n",
       "      <td>object</td>\n",
       "      <td>object</td>\n",
       "      <td>object</td>\n",
       "      <td>object</td>\n",
       "      <td>object</td>\n",
       "      <td>float64</td>\n",
       "    </tr>\n",
       "  </tbody>\n",
       "</table>\n",
       "<p>1 rows × 54 columns</p>\n",
       "</div>"
      ],
      "text/plain": [
       "      id   title  estate isExclusiveOffer isPrivateOwner isPromoted  \\\n",
       "0  int64  object  object             bool           bool       bool   \n",
       "\n",
       "  areaInSquareMeters terrainAreaInSquareMeters roomsNumber hidePrice  ...  \\\n",
       "0            float64                    object      object      bool  ...   \n",
       "\n",
       "  p_bwindows p_bheating owner_type owner_name object_name  pprice  \\\n",
       "0     object     object     object     object      object  object   \n",
       "\n",
       "  remote_services building_material free_from property  \n",
       "0          object            object    object  float64  \n",
       "\n",
       "[1 rows x 54 columns]"
      ]
     },
     "execution_count": 5,
     "metadata": {},
     "output_type": "execute_result"
    }
   ],
   "source": [
    "pd.DataFrame(df.dtypes).transpose()"
   ]
  },
  {
   "cell_type": "code",
   "execution_count": 6,
   "id": "a037d282",
   "metadata": {
    "ExecuteTime": {
     "end_time": "2023-06-30T07:03:11.495564Z",
     "start_time": "2023-06-30T07:03:11.275947Z"
    }
   },
   "outputs": [
    {
     "data": {
      "text/plain": [
       "title                        [Mieszkanie 102m2 + Balkon 13.2m2 - Bezposredn...\n",
       "estate                                                                  [FLAT]\n",
       "terrainAreaInSquareMeters                                               [None]\n",
       "roomsNumber                  [FOUR, THREE, TWO, FIVE, SIX, ONE, EIGHT, SEVE...\n",
       "dateCreated                  [2023-06-25 19:59:39, 2023-06-25 19:51:42, 202...\n",
       "dateCreatedFirst             [2023-04-26 19:18:02, 2023-05-03 19:49:18, 202...\n",
       "loc                          [None, ul. Stanisława Kazury, , ul. Lucjana Ru...\n",
       "loc_label                    [Warszawa, mazowieckie, Warszawa, Ursynów, ul....\n",
       "desc                         [Świetne 4 pokojowe mieszkanie na sprzedaż w m...\n",
       "url                          [https://www.otodom.pl/pl/oferta/mieszkanie-10...\n",
       "agency_name                  [None, BJM Development, SLOW HOME Nieruchomośc...\n",
       "description                  [\\nNa sprzedaż słoneczny, dwustronny i przestr...\n",
       "features                     [internet, teren zamknięty, domofon / wideofon...\n",
       "m                            [102, 64.9, 52, 35, 125, 55, 95, 71.37, 158, 9...\n",
       "price_per_m                  [11755, 14022, 15288, 14143, 15120, 14891, 181...\n",
       "rooms_num                                   [4, 3, 2, 5, 6, 1, 8, 7, more, 10]\n",
       "market                                                    [secondary, primary]\n",
       "building_type                [apartment, block, nan, house, tenement, ribbo...\n",
       "floor_no                     [floor_1, floor_5, floor_8, ground_floor, floo...\n",
       "building_floors_num          [12, 8, 9, 4, 7, 3, 2, nan, 5, 10, 6, 1, 15, 2...\n",
       "windows_type                                 [plastic, wooden, nan, aluminium]\n",
       "heating                      [urban, gas, nan, other, boiler_room, electrical]\n",
       "build_year                   [2011, 1984, 2007, 1965, nan, 2012, 2009, 2023...\n",
       "construction_status          [ready_to_use, to_completion, nan, to_renovation]\n",
       "rent                         [1000, 740, 600, nan, 400, 950, 3500, 3330, 29...\n",
       "building_ownership           [full_ownership, co_operative_ownership_with_a...\n",
       "district                     [None, Ursynów, Bielany, Praga-Południe, Wilan...\n",
       "features2                                                                   []\n",
       "p_kitchen                                                   [SEPARATE, None, ]\n",
       "p_parking                                                                   []\n",
       "p_rooms                                                                     []\n",
       "p_type                                                                [None, ]\n",
       "p_windows                                                                   []\n",
       "p_btype                      [APARTMENT, BLOCK, None, HOUSE, TENEMENT, RIBB...\n",
       "p_bmaterial                  [None, CONCRETE_PLATE, REINFORCED_CONCRETE, BR...\n",
       "p_bwindows                                      [PLASTIC, WOODEN, , ALUMINIUM]\n",
       "p_bheating                   [URBAN, GAS, None, OTHER, BOILER_ROOM, ELECTRI...\n",
       "owner_type                                        [private, developer, agency]\n",
       "owner_name                   [Kateryna K, Agnieszka, Michał, Łukasz, Biuro ...\n",
       "object_name                  [, Pasaż Abrahama, JANPUL Future Gardens - got...\n",
       "pprice                       [1199000, 910000, 795000, 495000, 1890000, 819...\n",
       "remote_services                                                       [nan, 1]\n",
       "building_material            [nan, concrete_plate, reinforced_concrete, bri...\n",
       "free_from                    [nan, 2023-06-24, 2023-06-21, 2023-06-23, 2023...\n",
       "dtype: object"
      ]
     },
     "execution_count": 6,
     "metadata": {},
     "output_type": "execute_result"
    }
   ],
   "source": [
    "df.select_dtypes(['object']).apply(lambda x: x.unique())"
   ]
  },
  {
   "cell_type": "code",
   "execution_count": 7,
   "id": "50ed61d2",
   "metadata": {
    "ExecuteTime": {
     "end_time": "2023-06-30T07:03:11.511073Z",
     "start_time": "2023-06-30T07:03:11.496798Z"
    }
   },
   "outputs": [
    {
     "data": {
      "text/html": [
       "<div>\n",
       "<style scoped>\n",
       "    .dataframe tbody tr th:only-of-type {\n",
       "        vertical-align: middle;\n",
       "    }\n",
       "\n",
       "    .dataframe tbody tr th {\n",
       "        vertical-align: top;\n",
       "    }\n",
       "\n",
       "    .dataframe thead th {\n",
       "        text-align: right;\n",
       "    }\n",
       "</style>\n",
       "<table border=\"1\" class=\"dataframe\">\n",
       "  <thead>\n",
       "    <tr style=\"text-align: right;\">\n",
       "      <th></th>\n",
       "      <th>isExclusiveOffer</th>\n",
       "      <th>isPrivateOwner</th>\n",
       "      <th>isPromoted</th>\n",
       "      <th>hidePrice</th>\n",
       "    </tr>\n",
       "  </thead>\n",
       "  <tbody>\n",
       "    <tr>\n",
       "      <th>0</th>\n",
       "      <td>False</td>\n",
       "      <td>True</td>\n",
       "      <td>True</td>\n",
       "      <td>False</td>\n",
       "    </tr>\n",
       "    <tr>\n",
       "      <th>1</th>\n",
       "      <td>True</td>\n",
       "      <td>False</td>\n",
       "      <td>False</td>\n",
       "      <td>True</td>\n",
       "    </tr>\n",
       "  </tbody>\n",
       "</table>\n",
       "</div>"
      ],
      "text/plain": [
       "   isExclusiveOffer  isPrivateOwner  isPromoted  hidePrice\n",
       "0             False            True        True      False\n",
       "1              True           False       False       True"
      ]
     },
     "execution_count": 7,
     "metadata": {},
     "output_type": "execute_result"
    }
   ],
   "source": [
    "df.select_dtypes(['bool']).apply(lambda x: x.unique())"
   ]
  },
  {
   "cell_type": "code",
   "execution_count": 8,
   "id": "7df7e615",
   "metadata": {
    "ExecuteTime": {
     "end_time": "2023-06-30T07:03:11.542099Z",
     "start_time": "2023-06-30T07:03:11.513059Z"
    }
   },
   "outputs": [
    {
     "data": {
      "text/html": [
       "<div>\n",
       "<style scoped>\n",
       "    .dataframe tbody tr th:only-of-type {\n",
       "        vertical-align: middle;\n",
       "    }\n",
       "\n",
       "    .dataframe tbody tr th {\n",
       "        vertical-align: top;\n",
       "    }\n",
       "\n",
       "    .dataframe thead th {\n",
       "        text-align: right;\n",
       "    }\n",
       "</style>\n",
       "<table border=\"1\" class=\"dataframe\">\n",
       "  <thead>\n",
       "    <tr style=\"text-align: right;\">\n",
       "      <th></th>\n",
       "      <th>id</th>\n",
       "      <th>areaInSquareMeters</th>\n",
       "      <th>price</th>\n",
       "      <th>lat</th>\n",
       "      <th>lon</th>\n",
       "      <th>property</th>\n",
       "    </tr>\n",
       "  </thead>\n",
       "  <tbody>\n",
       "    <tr>\n",
       "      <th>count</th>\n",
       "      <td>1.421200e+04</td>\n",
       "      <td>14212.000000</td>\n",
       "      <td>1.012400e+04</td>\n",
       "      <td>14212.000000</td>\n",
       "      <td>14212.000000</td>\n",
       "      <td>0.0</td>\n",
       "    </tr>\n",
       "    <tr>\n",
       "      <th>mean</th>\n",
       "      <td>6.387401e+07</td>\n",
       "      <td>64.947562</td>\n",
       "      <td>1.078417e+06</td>\n",
       "      <td>52.230892</td>\n",
       "      <td>21.002221</td>\n",
       "      <td>NaN</td>\n",
       "    </tr>\n",
       "    <tr>\n",
       "      <th>std</th>\n",
       "      <td>6.673876e+05</td>\n",
       "      <td>151.264762</td>\n",
       "      <td>1.166693e+06</td>\n",
       "      <td>0.055283</td>\n",
       "      <td>0.093568</td>\n",
       "      <td>NaN</td>\n",
       "    </tr>\n",
       "    <tr>\n",
       "      <th>min</th>\n",
       "      <td>4.359478e+07</td>\n",
       "      <td>8.000000</td>\n",
       "      <td>6.000000e+03</td>\n",
       "      <td>50.044050</td>\n",
       "      <td>16.066580</td>\n",
       "      <td>NaN</td>\n",
       "    </tr>\n",
       "    <tr>\n",
       "      <th>25%</th>\n",
       "      <td>6.373878e+07</td>\n",
       "      <td>43.790000</td>\n",
       "      <td>5.950000e+05</td>\n",
       "      <td>52.198320</td>\n",
       "      <td>20.951830</td>\n",
       "      <td>NaN</td>\n",
       "    </tr>\n",
       "    <tr>\n",
       "      <th>50%</th>\n",
       "      <td>6.412275e+07</td>\n",
       "      <td>56.390000</td>\n",
       "      <td>7.650000e+05</td>\n",
       "      <td>52.228569</td>\n",
       "      <td>21.002420</td>\n",
       "      <td>NaN</td>\n",
       "    </tr>\n",
       "    <tr>\n",
       "      <th>75%</th>\n",
       "      <td>6.426826e+07</td>\n",
       "      <td>71.000000</td>\n",
       "      <td>1.147141e+06</td>\n",
       "      <td>52.258812</td>\n",
       "      <td>21.053113</td>\n",
       "      <td>NaN</td>\n",
       "    </tr>\n",
       "    <tr>\n",
       "      <th>max</th>\n",
       "      <td>6.435696e+07</td>\n",
       "      <td>17500.000000</td>\n",
       "      <td>2.135010e+07</td>\n",
       "      <td>52.363830</td>\n",
       "      <td>21.309846</td>\n",
       "      <td>NaN</td>\n",
       "    </tr>\n",
       "  </tbody>\n",
       "</table>\n",
       "</div>"
      ],
      "text/plain": [
       "                 id  areaInSquareMeters         price           lat  \\\n",
       "count  1.421200e+04        14212.000000  1.012400e+04  14212.000000   \n",
       "mean   6.387401e+07           64.947562  1.078417e+06     52.230892   \n",
       "std    6.673876e+05          151.264762  1.166693e+06      0.055283   \n",
       "min    4.359478e+07            8.000000  6.000000e+03     50.044050   \n",
       "25%    6.373878e+07           43.790000  5.950000e+05     52.198320   \n",
       "50%    6.412275e+07           56.390000  7.650000e+05     52.228569   \n",
       "75%    6.426826e+07           71.000000  1.147141e+06     52.258812   \n",
       "max    6.435696e+07        17500.000000  2.135010e+07     52.363830   \n",
       "\n",
       "                lon  property  \n",
       "count  14212.000000       0.0  \n",
       "mean      21.002221       NaN  \n",
       "std        0.093568       NaN  \n",
       "min       16.066580       NaN  \n",
       "25%       20.951830       NaN  \n",
       "50%       21.002420       NaN  \n",
       "75%       21.053113       NaN  \n",
       "max       21.309846       NaN  "
      ]
     },
     "execution_count": 8,
     "metadata": {},
     "output_type": "execute_result"
    }
   ],
   "source": [
    "df.describe()"
   ]
  },
  {
   "cell_type": "code",
   "execution_count": 9,
   "id": "2b1f12f1",
   "metadata": {
    "ExecuteTime": {
     "end_time": "2023-06-30T07:03:11.574113Z",
     "start_time": "2023-06-30T07:03:11.544095Z"
    }
   },
   "outputs": [],
   "source": [
    "df['is_kitchen_separate'] = np.where(df['p_kitchen'] == 'SEPARATE', 1, 0)\n",
    "\n",
    "cols_to_drop = [\n",
    "    'features2', 'p_kitchen', 'p_parking', 'p_rooms', 'p_type', 'p_windows',\n",
    "    'estate', 'terrainAreaInSquareMeters', 'roomsNumber', 'url'\n",
    "]\n",
    "\n",
    "df = df.drop(columns=cols_to_drop)"
   ]
  },
  {
   "cell_type": "code",
   "execution_count": 10,
   "id": "f454cc70",
   "metadata": {
    "ExecuteTime": {
     "end_time": "2023-06-30T07:03:11.716163Z",
     "start_time": "2023-06-30T07:03:11.575112Z"
    }
   },
   "outputs": [
    {
     "data": {
      "text/plain": [
       "title                  [Mieszkanie 102m2 + Balkon 13.2m2 - Bezposredn...\n",
       "dateCreated            [2023-06-25 19:59:39, 2023-06-25 19:51:42, 202...\n",
       "dateCreatedFirst       [2023-04-26 19:18:02, 2023-05-03 19:49:18, 202...\n",
       "loc                    [None, ul. Stanisława Kazury, , ul. Lucjana Ru...\n",
       "loc_label              [Warszawa, mazowieckie, Warszawa, Ursynów, ul....\n",
       "desc                   [Świetne 4 pokojowe mieszkanie na sprzedaż w m...\n",
       "agency_name            [None, BJM Development, SLOW HOME Nieruchomośc...\n",
       "description            [\\nNa sprzedaż słoneczny, dwustronny i przestr...\n",
       "features               [internet, teren zamknięty, domofon / wideofon...\n",
       "m                      [102, 64.9, 52, 35, 125, 55, 95, 71.37, 158, 9...\n",
       "price_per_m            [11755, 14022, 15288, 14143, 15120, 14891, 181...\n",
       "rooms_num                             [4, 3, 2, 5, 6, 1, 8, 7, more, 10]\n",
       "market                                              [secondary, primary]\n",
       "building_type          [apartment, block, nan, house, tenement, ribbo...\n",
       "floor_no               [floor_1, floor_5, floor_8, ground_floor, floo...\n",
       "building_floors_num    [12, 8, 9, 4, 7, 3, 2, nan, 5, 10, 6, 1, 15, 2...\n",
       "windows_type                           [plastic, wooden, nan, aluminium]\n",
       "heating                [urban, gas, nan, other, boiler_room, electrical]\n",
       "build_year             [2011, 1984, 2007, 1965, nan, 2012, 2009, 2023...\n",
       "construction_status    [ready_to_use, to_completion, nan, to_renovation]\n",
       "rent                   [1000, 740, 600, nan, 400, 950, 3500, 3330, 29...\n",
       "building_ownership     [full_ownership, co_operative_ownership_with_a...\n",
       "district               [None, Ursynów, Bielany, Praga-Południe, Wilan...\n",
       "p_btype                [APARTMENT, BLOCK, None, HOUSE, TENEMENT, RIBB...\n",
       "p_bmaterial            [None, CONCRETE_PLATE, REINFORCED_CONCRETE, BR...\n",
       "p_bwindows                                [PLASTIC, WOODEN, , ALUMINIUM]\n",
       "p_bheating             [URBAN, GAS, None, OTHER, BOILER_ROOM, ELECTRI...\n",
       "owner_type                                  [private, developer, agency]\n",
       "owner_name             [Kateryna K, Agnieszka, Michał, Łukasz, Biuro ...\n",
       "object_name            [, Pasaż Abrahama, JANPUL Future Gardens - got...\n",
       "pprice                 [1199000, 910000, 795000, 495000, 1890000, 819...\n",
       "remote_services                                                 [nan, 1]\n",
       "building_material      [nan, concrete_plate, reinforced_concrete, bri...\n",
       "free_from              [nan, 2023-06-24, 2023-06-21, 2023-06-23, 2023...\n",
       "dtype: object"
      ]
     },
     "execution_count": 10,
     "metadata": {},
     "output_type": "execute_result"
    }
   ],
   "source": [
    "df.select_dtypes(['object']).apply(lambda x: x.unique())"
   ]
  },
  {
   "cell_type": "code",
   "execution_count": 11,
   "id": "2cf51920",
   "metadata": {
    "ExecuteTime": {
     "end_time": "2023-06-30T07:04:04.636410Z",
     "start_time": "2023-06-30T07:04:03.711103Z"
    }
   },
   "outputs": [],
   "source": [
    "df.to_csv('data/flats.csv')"
   ]
  }
 ],
 "metadata": {
  "kernelspec": {
   "display_name": "Python 3 (ipykernel)",
   "language": "python",
   "name": "python3"
  },
  "language_info": {
   "codemirror_mode": {
    "name": "ipython",
    "version": 3
   },
   "file_extension": ".py",
   "mimetype": "text/x-python",
   "name": "python",
   "nbconvert_exporter": "python",
   "pygments_lexer": "ipython3",
   "version": "3.10.0"
  },
  "toc": {
   "base_numbering": 1,
   "nav_menu": {},
   "number_sections": true,
   "sideBar": true,
   "skip_h1_title": false,
   "title_cell": "Table of Contents",
   "title_sidebar": "Contents",
   "toc_cell": false,
   "toc_position": {},
   "toc_section_display": true,
   "toc_window_display": false
  },
  "varInspector": {
   "cols": {
    "lenName": 16,
    "lenType": 16,
    "lenVar": 40
   },
   "kernels_config": {
    "python": {
     "delete_cmd_postfix": "",
     "delete_cmd_prefix": "del ",
     "library": "var_list.py",
     "varRefreshCmd": "print(var_dic_list())"
    },
    "r": {
     "delete_cmd_postfix": ") ",
     "delete_cmd_prefix": "rm(",
     "library": "var_list.r",
     "varRefreshCmd": "cat(var_dic_list()) "
    }
   },
   "types_to_exclude": [
    "module",
    "function",
    "builtin_function_or_method",
    "instance",
    "_Feature"
   ],
   "window_display": false
  }
 },
 "nbformat": 4,
 "nbformat_minor": 5
}
