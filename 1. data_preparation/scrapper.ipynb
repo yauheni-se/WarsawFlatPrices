{
 "cells": [
  {
   "cell_type": "markdown",
   "id": "2894b8b4",
   "metadata": {
    "heading_collapsed": true
   },
   "source": [
    "# Presets"
   ]
  },
  {
   "cell_type": "code",
   "execution_count": null,
   "id": "727bd9ba",
   "metadata": {
    "ExecuteTime": {
     "end_time": "2023-06-27T22:51:18.665955Z",
     "start_time": "2023-06-27T22:51:18.526533Z"
    },
    "hidden": true
   },
   "outputs": [],
   "source": [
    "import argparse\n",
    "import json\n",
    "import math\n",
    "import os\n",
    "import time\n",
    "from urllib.error import HTTPError\n",
    "from urllib.parse import ParseResult\n",
    "import re\n",
    "from urllib.parse import urlparse\n",
    "from urllib.request import Request\n",
    "from urllib.request import urlopen\n",
    "from urllib.request import urlretrieve\n",
    "from bs4 import BeautifulSoup as bs\n",
    "import zlib\n",
    "from time import sleep"
   ]
  },
  {
   "cell_type": "markdown",
   "id": "2eea366a",
   "metadata": {
    "heading_collapsed": true
   },
   "source": [
    "# Functions"
   ]
  },
  {
   "cell_type": "code",
   "execution_count": null,
   "id": "2e581e83",
   "metadata": {
    "ExecuteTime": {
     "end_time": "2023-06-27T22:51:22.712899Z",
     "start_time": "2023-06-27T22:51:22.707898Z"
    },
    "code_folding": [
     0
    ],
    "hidden": true
   },
   "outputs": [],
   "source": [
    "def download_page(pageid):\n",
    "    url = str(\n",
    "        'https://www.otodom.pl/pl/wyniki/sprzedaz/mieszkanie/mazowieckie/'+\n",
    "        'warszawa/warszawa/warszawa?limit=24&page='+\n",
    "        str(pageid)\n",
    "    )\n",
    "    req = Request(url, headers={'User-Agent': \"Mozilla/5.0\"})\n",
    "    sauce = urlopen(req).read()\n",
    "    soup = bs(sauce, 'html5lib')\n",
    "    offers = soup.find('script', type=\"application/json\")\n",
    "    return offers"
   ]
  },
  {
   "cell_type": "code",
   "execution_count": null,
   "id": "03e53f90",
   "metadata": {
    "ExecuteTime": {
     "end_time": "2023-06-27T22:51:23.180693Z",
     "start_time": "2023-06-27T22:51:23.175711Z"
    },
    "code_folding": [
     0
    ],
    "hidden": true
   },
   "outputs": [],
   "source": [
    "def download_desc(url):\n",
    "    req = Request(url, headers={'User-Agent': \"Mozilla/5.0\"})\n",
    "    sauce = urlopen(req).read()\n",
    "    soup = bs(sauce, 'html5lib')\n",
    "    desc = soup.find('script', type=\"application/json\")\n",
    "    return desc"
   ]
  },
  {
   "cell_type": "code",
   "execution_count": null,
   "id": "b93eb3fa",
   "metadata": {
    "ExecuteTime": {
     "end_time": "2023-06-27T22:51:23.618274Z",
     "start_time": "2023-06-27T22:51:23.607259Z"
    },
    "code_folding": [
     0
    ],
    "hidden": true
   },
   "outputs": [],
   "source": [
    "def get_n_offers(offers):\n",
    "    #n_offers = json.loads(offers.string)['@graph'][0]['description']\n",
    "    n_offers = json.loads(offers.string)['props']['pageProps']['pageDescription']\n",
    "    n_offers = re.sub(r\"Zobacz \", \"\", n_offers)\n",
    "    n_offers = re.sub(\n",
    "        r\" ogłoszeń o mieszkania na sprzedaż w Warszawa, mazowieckie. Sprawdź na Otodom.pl!\",\n",
    "        \"\",\n",
    "        n_offers\n",
    "    )\n",
    "    n_offers = int(n_offers)\n",
    "    return n_offers"
   ]
  },
  {
   "cell_type": "code",
   "execution_count": null,
   "id": "839594de",
   "metadata": {
    "ExecuteTime": {
     "end_time": "2023-06-27T22:51:24.180892Z",
     "start_time": "2023-06-27T22:51:24.167365Z"
    },
    "code_folding": [
     0
    ],
    "hidden": true
   },
   "outputs": [],
   "source": [
    "def get_offers(offers):\n",
    "    offers_lst = json.loads(offers.string)['props']['pageProps']['data']['searchAds']['items']\n",
    "    \n",
    "    [x.update({'loc':x['location']['address']['street']}) for x in offers_lst];\n",
    "    [x.update({'loc_label':str(x['locationLabel']['value'])}) for x in offers_lst];\n",
    "    [x.update({'desc':str(x['seo']['details']['description'])}) for x in offers_lst];\n",
    "    [x.pop('location') for x in offers_lst];\n",
    "    [x.pop('locationLabel') for x in offers_lst];\n",
    "    [x.pop('images') for x in offers_lst];\n",
    "    [x.pop('openDays') for x in offers_lst];\n",
    "    [x.pop('rentPrice') for x in offers_lst];\n",
    "    [x.pop('priceFromPerSquareMeter') for x in offers_lst];\n",
    "    [x.pop('investmentState') for x in offers_lst];\n",
    "    [x.pop('investmentUnitsRoomsNumber') for x in offers_lst];\n",
    "    [x.pop('investmentEstimatedDelivery') for x in offers_lst];\n",
    "    [x.pop('investmentUnitsNumber') for x in offers_lst];\n",
    "    [x.pop('seo') for x in offers_lst];\n",
    "    [x.pop('totalPossibleImages') for x in offers_lst];\n",
    "    [x.pop('__typename') for x in offers_lst];\n",
    "    [x.pop('pushedUpAt') for x in offers_lst];\n",
    "    [x.pop('investmentUnitsAreaInSquareMeters') for x in offers_lst];\n",
    "    [x.pop('peoplePerRoom') for x in offers_lst];\n",
    "    #[x.update({'price':x['totalPrice']['value']}) for x in offers_lst];\n",
    "    [x.update({'price':x['totalPrice']['value']}) if x['totalPrice'] is not None else x.update({'price':None}) for x in offers_lst];\n",
    "    [x.pop('totalPrice') for x in offers_lst];\n",
    "    #[x.update({'price_psqm':x['pricePerSquareMeter']['value']}) for x in offers_lst];\n",
    "    [x.pop('pricePerSquareMeter') for x in offers_lst];\n",
    "    [x.update({'url':'https://www.otodom.pl/pl/oferta/'+x['slug']}) for x in offers_lst];\n",
    "    [x.pop('slug') for x in offers_lst];\n",
    "    [x.update({'agency_name':x['agency']['name']}) if x['agency'] is not None else x.update({'agency_name':None}) for x in offers_lst]\n",
    "    [x.pop('agency') for x in offers_lst];\n",
    "    [x.pop('specialOffer') for x in offers_lst];\n",
    "    [x.pop('transaction') for x in offers_lst];\n",
    "    [x.update({'loc':str(x['loc']['name']+', '+x['loc']['number'])}) if x['loc'] is not None else x.update({'loc':None}) for x in offers_lst];\n",
    "    \n",
    "    return offers_lst"
   ]
  },
  {
   "cell_type": "code",
   "execution_count": null,
   "id": "5b618f1c",
   "metadata": {
    "ExecuteTime": {
     "end_time": "2023-06-27T22:51:25.230917Z",
     "start_time": "2023-06-27T22:51:25.221733Z"
    },
    "code_folding": [
     0
    ],
    "hidden": true
   },
   "outputs": [],
   "source": [
    "def create_overall_lst(sleep_sec=1):\n",
    "    pageid = 1\n",
    "    offers = download_page(pageid)\n",
    "    n_offers = get_n_offers(offers)\n",
    "    offers_lst = get_offers(offers)\n",
    "    full_list = []\n",
    "    full_list.extend(offers_lst)\n",
    "    n_pages = int(n_offers/24)\n",
    "    \n",
    "    for i in range(2, n_pages+1):\n",
    "        offers = download_page(i)\n",
    "        offers_lst = get_offers(offers)\n",
    "        full_list.extend(offers_lst)\n",
    "        sleep(sleep_sec)\n",
    "    return full_list"
   ]
  },
  {
   "cell_type": "code",
   "execution_count": null,
   "id": "e335e7f4",
   "metadata": {
    "ExecuteTime": {
     "end_time": "2023-06-27T22:51:26.668225Z",
     "start_time": "2023-06-27T22:51:26.647763Z"
    },
    "code_folding": [
     0
    ],
    "hidden": true
   },
   "outputs": [],
   "source": [
    "def get_clear_desc(desc):\n",
    "    if 'ad' in json.loads(desc.string)['props']['pageProps'].keys():\n",
    "        offer_detailed = json.loads(desc.string)['props']['pageProps']['ad']\n",
    "    else:\n",
    "        return {}\n",
    "    \n",
    "    keys_to_keep = [\n",
    "        'developmentTitle', 'description', 'location', 'characteristics', 'features', \n",
    "        'featuresWithoutCategory', 'property', 'owner'\n",
    "    ]\n",
    "    offer_detailed = {\n",
    "        key: offer_detailed[key] for key in offer_detailed if key in keys_to_keep\n",
    "    }\n",
    "    offer_detailed['characteristics'] = [\n",
    "        {x['key']:x['value']} for x in offer_detailed['characteristics']\n",
    "    ]\n",
    "    for i in offer_detailed['characteristics']:\n",
    "        for key, value in i.items():\n",
    "            offer_detailed[key] = value\n",
    "    #offer_detailed['characteristics'] = new_dict\n",
    "    offer_detailed['lat'] = offer_detailed['location']['coordinates']['latitude']\n",
    "    offer_detailed['lon'] = offer_detailed['location']['coordinates']['longitude']\n",
    "    \n",
    "    if offer_detailed['location']['address']['district'] is not None:\n",
    "        offer_detailed['district'] = offer_detailed['location']['address']['district']['name']\n",
    "    else:\n",
    "        offer_detailed['district'] = None\n",
    "    offer_detailed['features'] = ', '.join(offer_detailed['features'])\n",
    "    offer_detailed['features2'] = ', '.join(offer_detailed['featuresWithoutCategory'])\n",
    "    \n",
    "    if offer_detailed['property'] is not None:\n",
    "        offer_detailed['p_kitchen'] = offer_detailed['property']['properties']['kitchen']\n",
    "        offer_detailed['p_parking'] = offer_detailed['property']['properties']['parking']\n",
    "        offer_detailed['p_rooms'] = offer_detailed['property']['properties']['rooms']\n",
    "        offer_detailed['p_type'] = offer_detailed['property']['properties']['type']\n",
    "        offer_detailed['p_windows'] = offer_detailed['property']['properties']['windowsOrientation']\n",
    "        \n",
    "        offer_detailed['p_btype'] = offer_detailed['property']['buildingProperties']['type']\n",
    "        offer_detailed['p_bmaterial'] = offer_detailed['property']['buildingProperties']['material']\n",
    "        offer_detailed['p_bwindows'] = offer_detailed['property']['buildingProperties']['windows']\n",
    "        offer_detailed['p_bheating'] = offer_detailed['property']['buildingProperties']['heating']\n",
    "        \n",
    "        offer_detailed.pop('property');\n",
    "    else:\n",
    "        offer_detailed['p_kitchen'] = ''\n",
    "        offer_detailed['p_parking'] = ''\n",
    "        offer_detailed['p_rooms'] = ''\n",
    "        offer_detailed['p_type'] = ''\n",
    "        offer_detailed['p_windows'] = ''\n",
    "        \n",
    "        offer_detailed['p_btype'] = ''\n",
    "        offer_detailed['p_bmaterial'] = ''\n",
    "        offer_detailed['p_bwindows'] = ''\n",
    "        offer_detailed['p_bheating'] = ''\n",
    "\n",
    "    offer_detailed['owner_type'] = offer_detailed['owner']['type']\n",
    "    offer_detailed['owner_name'] = offer_detailed['owner']['name']\n",
    "    offer_detailed['object_name'] = offer_detailed['developmentTitle']\n",
    "    offer_detailed['pprice'] = offer_detailed['price']\n",
    "    offer_detailed.pop('location');\n",
    "    offer_detailed.pop('featuresWithoutCategory');\n",
    "    offer_detailed.pop('owner');\n",
    "    offer_detailed.pop('developmentTitle');\n",
    "    offer_detailed.pop('characteristics');\n",
    "    offer_detailed.pop('price');\n",
    "    offer_detailed['p_parking'] = ', '.join(offer_detailed['p_parking'])\n",
    "    offer_detailed['p_rooms'] = ', '.join(offer_detailed['p_rooms'])\n",
    "    offer_detailed['p_bwindows'] = ', '.join(offer_detailed['p_bwindows'])\n",
    "    offer_detailed['description'] = bs(offer_detailed['description'], \"lxml\").text\n",
    "    return offer_detailed"
   ]
  },
  {
   "cell_type": "markdown",
   "id": "c36335b5",
   "metadata": {
    "heading_collapsed": true
   },
   "source": [
    "# Get full previews list"
   ]
  },
  {
   "cell_type": "code",
   "execution_count": null,
   "id": "0efdb6ca",
   "metadata": {
    "ExecuteTime": {
     "end_time": "2023-06-27T22:50:40.922552Z",
     "start_time": "2023-06-27T22:50:39.887812Z"
    },
    "hidden": true
   },
   "outputs": [],
   "source": [
    "pageid = 1\n",
    "offers = download_page(pageid)\n",
    "n_offers = get_n_offers(offers)\n",
    "offers_lst = get_offers(offers)\n",
    "full_list = []\n",
    "full_list.extend(offers_lst)\n",
    "n_pages = int(n_offers/24) "
   ]
  },
  {
   "cell_type": "code",
   "execution_count": null,
   "id": "4758a5fc",
   "metadata": {
    "ExecuteTime": {
     "start_time": "2023-06-27T22:50:39.572Z"
    },
    "hidden": true
   },
   "outputs": [],
   "source": [
    "# takes around 22 min\n",
    "for i in range(370, n_pages+1):\n",
    "    offers = download_page(i)\n",
    "    offers_lst = get_offers(offers)\n",
    "    full_list.extend(offers_lst)\n",
    "    sleep(2)"
   ]
  },
  {
   "cell_type": "code",
   "execution_count": null,
   "id": "6e49a1ea",
   "metadata": {
    "ExecuteTime": {
     "start_time": "2023-06-27T22:50:39.573Z"
    },
    "hidden": true
   },
   "outputs": [],
   "source": [
    "len(full_list)"
   ]
  },
  {
   "cell_type": "code",
   "execution_count": null,
   "id": "78d8dc57",
   "metadata": {
    "ExecuteTime": {
     "start_time": "2023-06-27T22:50:39.574Z"
    },
    "code_folding": [
     0
    ],
    "hidden": true
   },
   "outputs": [],
   "source": [
    "with open('data/data.json', 'w') as f:\n",
    "    json.dump(full_list, f)"
   ]
  },
  {
   "cell_type": "markdown",
   "id": "506f7fc6",
   "metadata": {
    "heading_collapsed": true
   },
   "source": [
    "# Update each "
   ]
  },
  {
   "cell_type": "code",
   "execution_count": null,
   "id": "c09eb898",
   "metadata": {
    "ExecuteTime": {
     "end_time": "2023-06-27T22:51:31.203505Z",
     "start_time": "2023-06-27T22:51:31.078329Z"
    },
    "hidden": true
   },
   "outputs": [],
   "source": [
    "#f = open('data/data.json.json')\n",
    "#full_list = json.load(f)"
   ]
  },
  {
   "cell_type": "code",
   "execution_count": null,
   "id": "ab25c0f9",
   "metadata": {
    "ExecuteTime": {
     "end_time": "2023-06-29T07:11:14.504166Z",
     "start_time": "2023-06-29T07:11:14.086074Z"
    },
    "code_folding": [],
    "hidden": true
   },
   "outputs": [],
   "source": [
    "for i in range(1, len(full_list)):\n",
    "    print(i)\n",
    "    try:\n",
    "        url = full_list[i]['url']\n",
    "        desc = download_desc(url)\n",
    "        desc_clear = get_clear_desc(desc)\n",
    "        full_list[i] = {**full_list[i], **desc_clear}\n",
    "        with open('data/data2.json', 'w') as f:\n",
    "            json.dump(full_list, f)\n",
    "    except HTTPError as e:\n",
    "        if e.code == 308:\n",
    "            continue\n",
    "        else:\n",
    "            print(f\"HTTP Error {e.code}: {e.reason}\")\n",
    "            break\n",
    "    sleep(2)"
   ]
  }
 ],
 "metadata": {
  "kernelspec": {
   "display_name": "Python 3 (ipykernel)",
   "language": "python",
   "name": "python3"
  },
  "language_info": {
   "codemirror_mode": {
    "name": "ipython",
    "version": 3
   },
   "file_extension": ".py",
   "mimetype": "text/x-python",
   "name": "python",
   "nbconvert_exporter": "python",
   "pygments_lexer": "ipython3",
   "version": "3.10.0"
  },
  "toc": {
   "base_numbering": 1,
   "nav_menu": {},
   "number_sections": true,
   "sideBar": true,
   "skip_h1_title": false,
   "title_cell": "Table of Contents",
   "title_sidebar": "Contents",
   "toc_cell": false,
   "toc_position": {},
   "toc_section_display": true,
   "toc_window_display": false
  },
  "varInspector": {
   "cols": {
    "lenName": 16,
    "lenType": 16,
    "lenVar": 40
   },
   "kernels_config": {
    "python": {
     "delete_cmd_postfix": "",
     "delete_cmd_prefix": "del ",
     "library": "var_list.py",
     "varRefreshCmd": "print(var_dic_list())"
    },
    "r": {
     "delete_cmd_postfix": ") ",
     "delete_cmd_prefix": "rm(",
     "library": "var_list.r",
     "varRefreshCmd": "cat(var_dic_list()) "
    }
   },
   "types_to_exclude": [
    "module",
    "function",
    "builtin_function_or_method",
    "instance",
    "_Feature"
   ],
   "window_display": false
  }
 },
 "nbformat": 4,
 "nbformat_minor": 5
}
